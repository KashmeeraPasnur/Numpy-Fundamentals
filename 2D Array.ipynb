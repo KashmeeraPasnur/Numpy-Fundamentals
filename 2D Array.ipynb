{
 "cells": [
  {
   "cell_type": "code",
   "execution_count": 1,
   "id": "55d3f351",
   "metadata": {},
   "outputs": [],
   "source": [
    "import numpy as np"
   ]
  },
  {
   "cell_type": "code",
   "execution_count": 2,
   "id": "f0ec10a1",
   "metadata": {},
   "outputs": [
    {
     "data": {
      "text/plain": [
       "array([ 1,  2,  3,  4,  5,  6,  7,  8,  9, 10])"
      ]
     },
     "execution_count": 2,
     "metadata": {},
     "output_type": "execute_result"
    }
   ],
   "source": [
    "x=np.arange(1,11)\n",
    "x"
   ]
  },
  {
   "cell_type": "code",
   "execution_count": 3,
   "id": "7214b148",
   "metadata": {},
   "outputs": [
    {
     "data": {
      "text/plain": [
       "(1, (10,), dtype('int32'))"
      ]
     },
     "execution_count": 3,
     "metadata": {},
     "output_type": "execute_result"
    }
   ],
   "source": [
    "x=np.arange(1,11)\n",
    "x.ndim,x.shape,x.dtype"
   ]
  },
  {
   "cell_type": "code",
   "execution_count": 5,
   "id": "f5b15911",
   "metadata": {},
   "outputs": [
    {
     "data": {
      "text/plain": [
       "array([2, 4])"
      ]
     },
     "execution_count": 5,
     "metadata": {},
     "output_type": "execute_result"
    }
   ],
   "source": [
    "x[1:5:2]"
   ]
  },
  {
   "cell_type": "markdown",
   "id": "303c99cb",
   "metadata": {},
   "source": [
    "## Creating 2D Array"
   ]
  },
  {
   "cell_type": "code",
   "execution_count": 6,
   "id": "d9ae63f5",
   "metadata": {},
   "outputs": [
    {
     "data": {
      "text/plain": [
       "array([[ 1,  2,  3],\n",
       "       [ 4,  5,  6],\n",
       "       [ 7,  8,  9],\n",
       "       [10, 11, 12]])"
      ]
     },
     "execution_count": 6,
     "metadata": {},
     "output_type": "execute_result"
    }
   ],
   "source": [
    "a=np.array([[1,2,3],[4,5,6],[7,8,9],[10,11,12]])\n",
    "a"
   ]
  },
  {
   "cell_type": "code",
   "execution_count": 7,
   "id": "d7913bae",
   "metadata": {},
   "outputs": [
    {
     "data": {
      "text/plain": [
       "(2, dtype('int32'), (4, 3))"
      ]
     },
     "execution_count": 7,
     "metadata": {},
     "output_type": "execute_result"
    }
   ],
   "source": [
    "a=np.array([[1,2,3],[4,5,6],[7,8,9],[10,11,12]])\n",
    "a.ndim,a.dtype,a.shape"
   ]
  },
  {
   "cell_type": "markdown",
   "id": "7a2da66c",
   "metadata": {},
   "source": [
    "### Creating another 2D Array with 2 elements in it"
   ]
  },
  {
   "cell_type": "code",
   "execution_count": 8,
   "id": "54cbd2ac",
   "metadata": {},
   "outputs": [
    {
     "data": {
      "text/plain": [
       "(array([[1, 2],\n",
       "        [3, 4]]),\n",
       " array([[5, 6],\n",
       "        [7, 8]]))"
      ]
     },
     "execution_count": 8,
     "metadata": {},
     "output_type": "execute_result"
    }
   ],
   "source": [
    "x=np.array([[1,2],[3,4]])\n",
    "y=np.array([[5,6],[7,8]])\n",
    "x,y"
   ]
  },
  {
   "cell_type": "markdown",
   "id": "625ba9ab",
   "metadata": {},
   "source": [
    "### Operations in 2 D Array"
   ]
  },
  {
   "cell_type": "code",
   "execution_count": null,
   "id": "9151ae16",
   "metadata": {},
   "outputs": [],
   "source": [
    "x*y"
   ]
  },
  {
   "cell_type": "markdown",
   "id": "694b2b62",
   "metadata": {},
   "source": [
    "### dot() This function returns the dot product of two arrays. For 2-D vectors, it is the equivalent to matrix multiplication"
   ]
  },
  {
   "cell_type": "code",
   "execution_count": 10,
   "id": "0fbd2743",
   "metadata": {},
   "outputs": [
    {
     "data": {
      "text/plain": [
       "array([[19, 22],\n",
       "       [43, 50]])"
      ]
     },
     "execution_count": 10,
     "metadata": {},
     "output_type": "execute_result"
    }
   ],
   "source": [
    "x.dot(y)"
   ]
  },
  {
   "cell_type": "markdown",
   "id": "9e13b2a8",
   "metadata": {},
   "source": [
    "### Reshaping means changing the shape of an array.\n",
    "#### The shape of an array is the number of elements in each dimension."
   ]
  },
  {
   "cell_type": "code",
   "execution_count": 21,
   "id": "42c0a76c",
   "metadata": {},
   "outputs": [
    {
     "data": {
      "text/plain": [
       "array([[ 1,  2],\n",
       "       [ 3,  4],\n",
       "       [ 5,  6],\n",
       "       [ 7,  8],\n",
       "       [ 9, 10]])"
      ]
     },
     "execution_count": 21,
     "metadata": {},
     "output_type": "execute_result"
    }
   ],
   "source": [
    "m= np.arange(1,11).reshape(5,2)\n",
    "m"
   ]
  },
  {
   "cell_type": "code",
   "execution_count": 20,
   "id": "8eb3f5fb",
   "metadata": {},
   "outputs": [
    {
     "data": {
      "text/plain": [
       "array([[ 1,  2,  3,  4,  5],\n",
       "       [ 6,  7,  8,  9, 10],\n",
       "       [11, 12, 13, 14, 15],\n",
       "       [16, 17, 18, 19, 20],\n",
       "       [21, 22, 23, 24, 25]])"
      ]
     },
     "execution_count": 20,
     "metadata": {},
     "output_type": "execute_result"
    }
   ],
   "source": [
    "m= np.arange(1,26).reshape(5,5)\n",
    "m"
   ]
  },
  {
   "cell_type": "markdown",
   "id": "ef0e3d77",
   "metadata": {},
   "source": [
    "### We can reshape the Sequence only when the Dimensions are Multiples of the nth Sequence Number "
   ]
  },
  {
   "cell_type": "code",
   "execution_count": 22,
   "id": "dbd33e78",
   "metadata": {},
   "outputs": [
    {
     "data": {
      "text/plain": [
       "array([[1, 2, 3, 4, 5, 6]])"
      ]
     },
     "execution_count": 22,
     "metadata": {},
     "output_type": "execute_result"
    }
   ],
   "source": [
    "x=np.arange(1,7).reshape(1,6)\n",
    "x"
   ]
  },
  {
   "cell_type": "code",
   "execution_count": 24,
   "id": "6f048cff",
   "metadata": {},
   "outputs": [
    {
     "data": {
      "text/plain": [
       "(array([[1, 2, 3, 4, 5, 6]]), 2, dtype('int32'), (1, 6))"
      ]
     },
     "execution_count": 24,
     "metadata": {},
     "output_type": "execute_result"
    }
   ],
   "source": [
    "x=np.arange(1,7).reshape(1,6)\n",
    "x,x.ndim,x.dtype,x.shape"
   ]
  },
  {
   "cell_type": "code",
   "execution_count": 26,
   "id": "21ce687c",
   "metadata": {},
   "outputs": [
    {
     "data": {
      "text/plain": [
       "(array([[1, 2, 3, 4]]), 2, dtype('int32'), (1, 4))"
      ]
     },
     "execution_count": 26,
     "metadata": {},
     "output_type": "execute_result"
    }
   ],
   "source": [
    "a=np.array([[1,2,3,4]])\n",
    "a,a.ndim,a.dtype,a.shape"
   ]
  },
  {
   "cell_type": "markdown",
   "id": "a34c5c72",
   "metadata": {},
   "source": [
    "### The numpy.linspace() function returns number spaces evenly w.r.t interval\n",
    "### numpy.linspace(start, stop, num = 50, endpoint = True, \n",
    "### retstep = False, dtype = None)"
   ]
  },
  {
   "cell_type": "code",
   "execution_count": 31,
   "id": "59dbb03d",
   "metadata": {},
   "outputs": [
    {
     "data": {
      "text/plain": [
       "array([[0.1       , 0.11836735, 0.13673469, 0.15510204, 0.17346939],\n",
       "       [0.19183673, 0.21020408, 0.22857143, 0.24693878, 0.26530612],\n",
       "       [0.28367347, 0.30204082, 0.32040816, 0.33877551, 0.35714286],\n",
       "       [0.3755102 , 0.39387755, 0.4122449 , 0.43061224, 0.44897959],\n",
       "       [0.46734694, 0.48571429, 0.50408163, 0.52244898, 0.54081633],\n",
       "       [0.55918367, 0.57755102, 0.59591837, 0.61428571, 0.63265306],\n",
       "       [0.65102041, 0.66938776, 0.6877551 , 0.70612245, 0.7244898 ],\n",
       "       [0.74285714, 0.76122449, 0.77959184, 0.79795918, 0.81632653],\n",
       "       [0.83469388, 0.85306122, 0.87142857, 0.88979592, 0.90816327],\n",
       "       [0.92653061, 0.94489796, 0.96326531, 0.98163265, 1.        ]])"
      ]
     },
     "execution_count": 31,
     "metadata": {},
     "output_type": "execute_result"
    }
   ],
   "source": [
    "x=np.linspace(0.1,1,50).reshape(10,5)\n",
    "x"
   ]
  },
  {
   "cell_type": "code",
   "execution_count": 32,
   "id": "9437775e",
   "metadata": {},
   "outputs": [
    {
     "data": {
      "text/plain": [
       "(array([[ 3, 10, 15, 71],\n",
       "        [ 7,  4,  5,  9]]),\n",
       " (2, 4))"
      ]
     },
     "execution_count": 32,
     "metadata": {},
     "output_type": "execute_result"
    }
   ],
   "source": [
    "x= np.array([[3,10,15,71],[7,4,5,9]])\n",
    "x,x.shape"
   ]
  },
  {
   "cell_type": "markdown",
   "id": "f7e540a2",
   "metadata": {},
   "source": [
    "### This function reserves the dimension of the given array and returns the modified array."
   ]
  },
  {
   "cell_type": "code",
   "execution_count": 34,
   "id": "f9dc92e8",
   "metadata": {},
   "outputs": [
    {
     "data": {
      "text/plain": [
       "array([[ 3,  7],\n",
       "       [10,  4],\n",
       "       [15,  5],\n",
       "       [71,  9]])"
      ]
     },
     "execution_count": 34,
     "metadata": {},
     "output_type": "execute_result"
    }
   ],
   "source": [
    "x.transpose()"
   ]
  },
  {
   "cell_type": "code",
   "execution_count": 35,
   "id": "fdd54bcb",
   "metadata": {},
   "outputs": [
    {
     "data": {
      "text/plain": [
       "array([[5375,  775],\n",
       "       [ 775,  171]])"
      ]
     },
     "execution_count": 35,
     "metadata": {},
     "output_type": "execute_result"
    }
   ],
   "source": [
    "x.dot(x.transpose())"
   ]
  },
  {
   "cell_type": "code",
   "execution_count": null,
   "id": "3bfe4971",
   "metadata": {},
   "outputs": [],
   "source": []
  }
 ],
 "metadata": {
  "kernelspec": {
   "display_name": "Python 3 (ipykernel)",
   "language": "python",
   "name": "python3"
  },
  "language_info": {
   "codemirror_mode": {
    "name": "ipython",
    "version": 3
   },
   "file_extension": ".py",
   "mimetype": "text/x-python",
   "name": "python",
   "nbconvert_exporter": "python",
   "pygments_lexer": "ipython3",
   "version": "3.8.5"
  }
 },
 "nbformat": 4,
 "nbformat_minor": 5
}
